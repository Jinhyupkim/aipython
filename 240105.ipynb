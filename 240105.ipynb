{
  "nbformat": 4,
  "nbformat_minor": 0,
  "metadata": {
    "colab": {
      "provenance": [],
      "authorship_tag": "ABX9TyNO+QPXKr/T1U85XIW1VgX5",
      "include_colab_link": true
    },
    "kernelspec": {
      "name": "python3",
      "display_name": "Python 3"
    },
    "language_info": {
      "name": "python"
    }
  },
  "cells": [
    {
      "cell_type": "markdown",
      "metadata": {
        "id": "view-in-github",
        "colab_type": "text"
      },
      "source": [
        "<a href=\"https://colab.research.google.com/github/Jinhyupkim/aipython/blob/main/240105.ipynb\" target=\"_parent\"><img src=\"https://colab.research.google.com/assets/colab-badge.svg\" alt=\"Open In Colab\"/></a>"
      ]
    },
    {
      "cell_type": "code",
      "execution_count": 2,
      "metadata": {
        "colab": {
          "base_uri": "https://localhost:8080/"
        },
        "id": "PgJdCYg3L58S",
        "outputId": "0efcf3ef-9681-4fd9-c51a-37d087b9d436"
      },
      "outputs": [
        {
          "output_type": "stream",
          "name": "stdout",
          "text": [
            "John,30,engineer\n",
            "Alice,25,Designer\n",
            "Bob,22,Artist\n",
            "Name: John Age: 30 Occupation: engineer\n",
            "Name: Alice Age: 25 Occupation: Designer\n",
            "Name: Bob Age: 22 Occupation: Artist\n"
          ]
        }
      ],
      "source": [
        "data = \"John,30,engineer\\nAlice,25,Designer\\nBob,22,Artist\"\n",
        "lines = data.split(\"\\n\")\n",
        "\n",
        "print(data)\n",
        "\n",
        "for line in lines:\n",
        "  fields = line.split(\",\")\n",
        "  print(\"Name:\", fields[0], \"Age:\", fields[1], \"Occupation:\", fields[2])"
      ]
    },
    {
      "cell_type": "code",
      "source": [
        "words=['Hello', 'world', 'this', 'is', 'a', 'test']\n",
        "sentence=''.join(words)\n",
        "print(sentence)"
      ],
      "metadata": {
        "colab": {
          "base_uri": "https://localhost:8080/"
        },
        "id": "7X5Gv4PRPLoJ",
        "outputId": "6daf5f3a-3c50-47e1-e975-ce12a40d4f28"
      },
      "execution_count": 3,
      "outputs": [
        {
          "output_type": "stream",
          "name": "stdout",
          "text": [
            "Helloworldthisisatest\n"
          ]
        }
      ]
    },
    {
      "cell_type": "code",
      "source": [
        "data=\"'Geeks', 'for', 'Geeks'\"\n",
        "a=data.split(\"\")\n",
        "print(a)\n",
        "\n",
        "???"
      ],
      "metadata": {
        "colab": {
          "base_uri": "https://localhost:8080/",
          "height": 219
        },
        "id": "cj9xUPLuPv6b",
        "outputId": "11852924-a940-4e04-86a5-18b52ea9f56a"
      },
      "execution_count": 16,
      "outputs": [
        {
          "output_type": "error",
          "ename": "ValueError",
          "evalue": "empty separator",
          "traceback": [
            "\u001b[0;31m---------------------------------------------------------------------------\u001b[0m",
            "\u001b[0;31mValueError\u001b[0m                                Traceback (most recent call last)",
            "\u001b[0;32m<ipython-input-16-fc83cad5bc48>\u001b[0m in \u001b[0;36m<cell line: 2>\u001b[0;34m()\u001b[0m\n\u001b[1;32m      1\u001b[0m \u001b[0mdata\u001b[0m\u001b[0;34m=\u001b[0m\u001b[0;34m\"'Geeks', 'for', 'Geeks'\"\u001b[0m\u001b[0;34m\u001b[0m\u001b[0;34m\u001b[0m\u001b[0m\n\u001b[0;32m----> 2\u001b[0;31m \u001b[0ma\u001b[0m\u001b[0;34m=\u001b[0m\u001b[0mdata\u001b[0m\u001b[0;34m.\u001b[0m\u001b[0msplit\u001b[0m\u001b[0;34m(\u001b[0m\u001b[0;34m\"\"\u001b[0m\u001b[0;34m)\u001b[0m\u001b[0;34m\u001b[0m\u001b[0;34m\u001b[0m\u001b[0m\n\u001b[0m\u001b[1;32m      3\u001b[0m \u001b[0mprint\u001b[0m\u001b[0;34m(\u001b[0m\u001b[0ma\u001b[0m\u001b[0;34m)\u001b[0m\u001b[0;34m\u001b[0m\u001b[0;34m\u001b[0m\u001b[0m\n",
            "\u001b[0;31mValueError\u001b[0m: empty separator"
          ]
        }
      ]
    },
    {
      "cell_type": "code",
      "source": [
        "words=['Geeks', '-', 'for', '-', 'Geeks']\n",
        "sentence=''.join(words)\n",
        "print(sentence)"
      ],
      "metadata": {
        "colab": {
          "base_uri": "https://localhost:8080/"
        },
        "id": "oQ5p1CjiQn_r",
        "outputId": "b8f86418-88bc-44f2-ff2c-80d84f21f38e"
      },
      "execution_count": 15,
      "outputs": [
        {
          "output_type": "stream",
          "name": "stdout",
          "text": [
            "Geeks-for-Geeks\n"
          ]
        }
      ]
    },
    {
      "cell_type": "markdown",
      "source": [
        "new_list = [expression for item in iterable if condition]\n",
        "\n",
        "\n",
        "• new_list: 새로운 리스트를 저장할 변수 이름\n",
        "\n",
        "• expression: 각 요소에 대한 계산식 또는 변환식\n",
        "\n",
        "• item: 반복 가능한(iterable) 객체에서 가져올 각 요소의 변수 이름.\n",
        "\n",
        "• iterable: 반복 가능한 객체 (예: 리스트, 튜플, 문자열 등).\n",
        "\n",
        "• condition (선택사항): 조건식. 이 조건식을 만족하는 요소만 새 리스트에 포함."
      ],
      "metadata": {
        "id": "1cIXpxM-RwLP"
      }
    },
    {
      "cell_type": "code",
      "source": [
        "squares = [x**2 for x in range(5) if  x% 2 == 0]\n",
        "print(squares)\n"
      ],
      "metadata": {
        "colab": {
          "base_uri": "https://localhost:8080/"
        },
        "id": "SeMSGmUIRtay",
        "outputId": "68d042ff-7b90-4a54-f9fe-9b6f03ac3b34"
      },
      "execution_count": 19,
      "outputs": [
        {
          "output_type": "stream",
          "name": "stdout",
          "text": [
            "[0, 4, 16]\n"
          ]
        }
      ]
    },
    {
      "cell_type": "code",
      "source": [
        "squares = [x**2 for x in range(21) if  x% 3 == 0]\n",
        "print(squares)"
      ],
      "metadata": {
        "colab": {
          "base_uri": "https://localhost:8080/"
        },
        "id": "oftGCWBITqHr",
        "outputId": "cde6bfdf-7c30-407a-b2b8-ad192b6bb887"
      },
      "execution_count": 20,
      "outputs": [
        {
          "output_type": "stream",
          "name": "stdout",
          "text": [
            "[0, 9, 36, 81, 144, 225, 324]\n"
          ]
        }
      ]
    },
    {
      "cell_type": "code",
      "source": [
        "a=[x**2 for x in range(1,6) ]\n",
        "print(a)"
      ],
      "metadata": {
        "colab": {
          "base_uri": "https://localhost:8080/"
        },
        "id": "cv6kasqdT5fZ",
        "outputId": "549e7918-ef30-4bc6-9cbc-ae959144f2bc"
      },
      "execution_count": 21,
      "outputs": [
        {
          "output_type": "stream",
          "name": "stdout",
          "text": [
            "[1, 4, 9, 16, 25]\n"
          ]
        }
      ]
    },
    {
      "cell_type": "code",
      "source": [
        "City=[\"Seoul\", \"New York\", \"London\", \"Shanghai\", \"Paris\", \"Tokyo\"]\n",
        "\n",
        "a=[SCity for SCity in City if SCity[0]==\"S\"]\n",
        "print(a)"
      ],
      "metadata": {
        "colab": {
          "base_uri": "https://localhost:8080/"
        },
        "id": "e3_f57RWULmy",
        "outputId": "c7d791c5-fc7f-4cf9-8dd8-9a2537bdbbb9"
      },
      "execution_count": 23,
      "outputs": [
        {
          "output_type": "stream",
          "name": "stdout",
          "text": [
            "['Seoul', 'Shanghai']\n"
          ]
        }
      ]
    },
    {
      "cell_type": "code",
      "source": [
        "fruits =['apple', 'banana', 'cherry']\n",
        "for index, fruit in enumerate(fruits):\n",
        "  print(index, fruit)"
      ],
      "metadata": {
        "colab": {
          "base_uri": "https://localhost:8080/"
        },
        "id": "o6teFtWkWR-1",
        "outputId": "c9eaeb6f-0182-483b-d374-f2e6e613d266"
      },
      "execution_count": 24,
      "outputs": [
        {
          "output_type": "stream",
          "name": "stdout",
          "text": [
            "0 apple\n",
            "1 banana\n",
            "2 cherry\n"
          ]
        }
      ]
    },
    {
      "cell_type": "code",
      "source": [
        "F=['a','b','c']\n",
        "for index, fruit in enumerate(F):\n",
        "  print(\"fruit\",index, \"name is\", fruit)"
      ],
      "metadata": {
        "colab": {
          "base_uri": "https://localhost:8080/"
        },
        "id": "7JI2xoHIWtXT",
        "outputId": "48dfe5e4-9148-473c-8e33-52df5e6f2263"
      },
      "execution_count": 28,
      "outputs": [
        {
          "output_type": "stream",
          "name": "stdout",
          "text": [
            "fruit 0 name is a\n",
            "fruit 1 name is b\n",
            "fruit 2 name is c\n"
          ]
        }
      ]
    },
    {
      "cell_type": "code",
      "source": [
        "names=['John', 'Jane', 'Doe']\n",
        "ages=[25,30,35]\n",
        "\n",
        "for name, age in zip(names,ages):\n",
        "  print(f\"{name} is {age} years old.\")"
      ],
      "metadata": {
        "colab": {
          "base_uri": "https://localhost:8080/"
        },
        "id": "hNnpjKMTZEGd",
        "outputId": "44a6549e-21b0-4852-f86a-e4bdc72368c3"
      },
      "execution_count": 33,
      "outputs": [
        {
          "output_type": "stream",
          "name": "stdout",
          "text": [
            "John is 25 years old.\n",
            "Jane is 30 years old.\n",
            "Doe is 35 years old.\n"
          ]
        }
      ]
    },
    {
      "cell_type": "markdown",
      "source": [
        "x=dict(zip(keys,values))으로 표현하면 사전형으로 나타낼 수 있다.\n",
        "\n",
        "9번페이지 공부해보기"
      ],
      "metadata": {
        "id": "BgGbsNdPZ5yC"
      }
    },
    {
      "cell_type": "code",
      "source": [
        "name =[\"M\", \"N\", \"S\", \"A\"]\n",
        "roll_no = [4,1,3,2]\n",
        "\n",
        "for name, roll_no in zip(name, roll_no):"
      ],
      "metadata": {
        "colab": {
          "base_uri": "https://localhost:8080/",
          "height": 146
        },
        "id": "7860FvT2abLy",
        "outputId": "dc743ef3-f96e-4233-9a0b-2b9943139e0d"
      },
      "execution_count": 36,
      "outputs": [
        {
          "output_type": "error",
          "ename": "SyntaxError",
          "evalue": "f-string: closing parenthesis '}' does not match opening parenthesis '(' (<ipython-input-36-69ee6f3a48e9>, line 5)",
          "traceback": [
            "\u001b[0;36m  File \u001b[0;32m\"<ipython-input-36-69ee6f3a48e9>\"\u001b[0;36m, line \u001b[0;32m5\u001b[0m\n\u001b[0;31m    print(f\"{('{name}'{roll_no}}\")\u001b[0m\n\u001b[0m                                 ^\u001b[0m\n\u001b[0;31mSyntaxError\u001b[0m\u001b[0;31m:\u001b[0m f-string: closing parenthesis '}' does not match opening parenthesis '('\n"
          ]
        }
      ]
    },
    {
      "cell_type": "code",
      "source": [
        "add=lambda x,y:x+y\n",
        "print(add(5,5))"
      ],
      "metadata": {
        "colab": {
          "base_uri": "https://localhost:8080/"
        },
        "id": "Nji9Fc2SePiW",
        "outputId": "ba754ddf-221c-4cfe-8a1c-7c3db0b6864b"
      },
      "execution_count": 40,
      "outputs": [
        {
          "output_type": "stream",
          "name": "stdout",
          "text": [
            "10\n"
          ]
        }
      ]
    },
    {
      "cell_type": "markdown",
      "source": [
        "lambda는 lambda x:x*2 까지가 함수다\n",
        "\n",
        "\n",
        "lambda, list comprehension 은 중요"
      ],
      "metadata": {
        "id": "XJzexUx4fQHA"
      }
    },
    {
      "cell_type": "code",
      "source": [],
      "metadata": {
        "id": "wpkaZfBNef44"
      },
      "execution_count": null,
      "outputs": []
    }
  ]
}