{
  "nbformat": 4,
  "nbformat_minor": 0,
  "metadata": {
    "colab": {
      "provenance": [],
      "authorship_tag": "ABX9TyODL6m0zFIwh+k8qnArp8s8",
      "include_colab_link": true
    },
    "kernelspec": {
      "name": "python3",
      "display_name": "Python 3"
    },
    "language_info": {
      "name": "python"
    }
  },
  "cells": [
    {
      "cell_type": "markdown",
      "metadata": {
        "id": "view-in-github",
        "colab_type": "text"
      },
      "source": [
        "<a href=\"https://colab.research.google.com/github/Jinhyupkim/aipython/blob/main/240104.ipynb\" target=\"_parent\"><img src=\"https://colab.research.google.com/assets/colab-badge.svg\" alt=\"Open In Colab\"/></a>"
      ]
    },
    {
      "cell_type": "code",
      "execution_count": 13,
      "metadata": {
        "id": "vcRxdTDycxyf",
        "colab": {
          "base_uri": "https://localhost:8080/"
        },
        "outputId": "469197aa-5ea7-445d-8cb8-57577a38dd00"
      },
      "outputs": [
        {
          "output_type": "stream",
          "name": "stdout",
          "text": [
            "학생의 점수를 입력하세요.90\n",
            "학생의 점수를 입력하세요.70\n",
            "학생의 점수를 입력하세요.30\n",
            "학생의 점수를 입력하세요.x\n",
            "입력 데이터 출력: [90, 70, 30]\n",
            "합계: 190\n",
            "인원수: 3\n",
            "평균: 63.33\n"
          ]
        }
      ],
      "source": [
        "score= []\n",
        "\n",
        "while True:\n",
        "  a= input(\"학생의 점수를 입력하세요.\")\n",
        "  if a.isdigit():\n",
        "    s=int(a)\n",
        "    score.append(s)\n",
        "  else:\n",
        "    break\n",
        "\n",
        "print(\"입력 데이터 출력:\", score)\n",
        "print(\"합계:\", sum(score))\n",
        "print(\"인원수:\", len(score))\n",
        "print(\"평균:\", \"%.2f\"%(sum(score)/len(score)))"
      ]
    }
  ]
}